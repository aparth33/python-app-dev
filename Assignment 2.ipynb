{
 "cells": [
  {
   "cell_type": "markdown",
   "metadata": {},
   "source": [
    " # 1"
   ]
  },
  {
   "cell_type": "code",
   "execution_count": 4,
   "metadata": {},
   "outputs": [
    {
     "name": "stdout",
     "output_type": "stream",
     "text": [
      "Enter String : Parth\n",
      "length of string is :  5\n"
     ]
    }
   ],
   "source": [
    "count=0\n",
    "a=input(\"Enter String : \")\n",
    "for i in a:\n",
    "    count+=1\n",
    "print(\"length of string is : \",count)"
   ]
  },
  {
   "cell_type": "markdown",
   "metadata": {},
   "source": [
    "# 2"
   ]
  },
  {
   "cell_type": "code",
   "execution_count": 8,
   "metadata": {},
   "outputs": [
    {
     "name": "stdout",
     "output_type": "stream",
     "text": [
      "Enter String : parth \n",
      "Enter String : is good\n"
     ]
    },
    {
     "data": {
      "text/plain": [
       "'parth is good'"
      ]
     },
     "execution_count": 8,
     "metadata": {},
     "output_type": "execute_result"
    }
   ],
   "source": [
    "a=input(\"Enter String : \")\n",
    "b=input(\"Enter String : \")\n",
    "# print(a+b)\n",
    "a+b"
   ]
  },
  {
   "cell_type": "markdown",
   "metadata": {},
   "source": [
    "# 3"
   ]
  },
  {
   "cell_type": "code",
   "execution_count": 21,
   "metadata": {},
   "outputs": [
    {
     "name": "stdout",
     "output_type": "stream",
     "text": [
      "Enter String : parth scored 100 runs\n",
      "alphabets are :  15 and numbers are :  3\n"
     ]
    }
   ],
   "source": [
    "alpha=count=space=0\n",
    "a=input(\"Enter String : \")\n",
    "for i in a:\n",
    "    if i>='A' and i<='z':\n",
    "        alpha+=1\n",
    "    elif ord(i)>=ord(str(0)) and ord(i)<=ord(str(9)):\n",
    "        count+=1\n",
    "    else:\n",
    "        space+=1\n",
    "print(\"alphabets are : \",alpha,\"and numbers are : \",count)"
   ]
  },
  {
   "cell_type": "markdown",
   "metadata": {},
   "source": [
    "# 4"
   ]
  },
  {
   "cell_type": "code",
   "execution_count": 40,
   "metadata": {},
   "outputs": [
    {
     "name": "stdout",
     "output_type": "stream",
     "text": [
      "Enter String : parth\n",
      "PARTH\n"
     ]
    }
   ],
   "source": [
    "a=input(\"Enter String : \")\n",
    "if a.lower():\n",
    "    print(a.upper())"
   ]
  },
  {
   "cell_type": "markdown",
   "metadata": {},
   "source": [
    "# 5"
   ]
  },
  {
   "cell_type": "code",
   "execution_count": 34,
   "metadata": {},
   "outputs": [
    {
     "name": "stdout",
     "output_type": "stream",
     "text": [
      "Enter String : PArth\n",
      "3 2\n"
     ]
    }
   ],
   "source": [
    "lower=upper=0\n",
    "a=input(\"Enter String : \")\n",
    "for i in a:\n",
    "    if i.islower():\n",
    "        lower+=1\n",
    "    else:\n",
    "        upper+=1\n",
    "print(lower,upper)"
   ]
  },
  {
   "cell_type": "markdown",
   "metadata": {},
   "source": [
    "# 6"
   ]
  },
  {
   "cell_type": "code",
   "execution_count": 43,
   "metadata": {},
   "outputs": [
    {
     "name": "stdout",
     "output_type": "stream",
     "text": [
      "Enter String : PaRtH\n",
      "pArTh"
     ]
    }
   ],
   "source": [
    "a=input(\"Enter String : \")\n",
    "for i in a:\n",
    "    if i.islower():\n",
    "        print(i.upper(),end=\"\")\n",
    "    else:\n",
    "        print(i.lower(),end=\"\")"
   ]
  },
  {
   "cell_type": "markdown",
   "metadata": {},
   "source": [
    "# 7"
   ]
  },
  {
   "cell_type": "code",
   "execution_count": 44,
   "metadata": {},
   "outputs": [
    {
     "name": "stdout",
     "output_type": "stream",
     "text": [
      "Enter String : this is a test string\n",
      "Enter Character : i\n",
      "Occurence of Character in String is :  3\n"
     ]
    }
   ],
   "source": [
    "a=input(\"Enter String : \")\n",
    "b=input(\"Enter Character : \")\n",
    "count=0\n",
    "for i in a:\n",
    "    if i==b:\n",
    "        count+=1\n",
    "print(\"Occurence of Character in String is : \",count)"
   ]
  },
  {
   "cell_type": "markdown",
   "metadata": {},
   "source": [
    "# 8"
   ]
  },
  {
   "cell_type": "code",
   "execution_count": 51,
   "metadata": {},
   "outputs": [
    {
     "name": "stdout",
     "output_type": "stream",
     "text": [
      "Enter a String : 23443\n",
      "Not a Palindrome\n"
     ]
    }
   ],
   "source": [
    "a=input(\"Enter a String : \")\n",
    "for i in range((len(a)//2)+1):\n",
    "    if a[i]==a[-i-1]:\n",
    "        pass\n",
    "    else:\n",
    "        break\n",
    "if i==len(a)//2:\n",
    "    print(\"Palindrome\")\n",
    "else:\n",
    "    print(\"Not a Palindrome\")"
   ]
  },
  {
   "cell_type": "markdown",
   "metadata": {},
   "source": [
    "# 9"
   ]
  },
  {
   "cell_type": "code",
   "execution_count": 15,
   "metadata": {},
   "outputs": [
    {
     "name": "stdout",
     "output_type": "stream",
     "text": [
      "Enter String : Pcrth\n",
      "Enter number : 1\n",
      "Enter character : a\n",
      "['P', 'a', 'r', 't', 'h']\n"
     ]
    }
   ],
   "source": [
    "s=list(input(\"Enter String : \"))\n",
    "n=int(input(\"Enter number : \"))\n",
    "c=input(\"Enter character : \")\n",
    "def replace(s,n,c):\n",
    "    s[n]=c\n",
    "    b=str(s)\n",
    "    print(b)\n",
    "replace(s,n,c)"
   ]
  },
  {
   "cell_type": "code",
   "execution_count": 9,
   "metadata": {},
   "outputs": [
    {
     "name": "stdout",
     "output_type": "stream",
     "text": [
      "1\n",
      "1\n",
      "2\n",
      "2\n",
      "3\n",
      "3\n",
      "4\n",
      "4\n",
      "42\n"
     ]
    }
   ],
   "source": [
    "items=[]\n",
    "while True:\n",
    "    t = input()\n",
    "    if t =='42':\n",
    "        break\n",
    "    print(t)"
   ]
  },
  {
   "cell_type": "code",
   "execution_count": null,
   "metadata": {},
   "outputs": [
    {
     "name": "stdout",
     "output_type": "stream",
     "text": [
      "1\n",
      "2\n",
      "8\n",
      "80\n",
      "-100\n"
     ]
    }
   ],
   "source": [
    "items=[]\n",
    "while True:\n",
    "    items.append(int(input()))\n",
    "\n",
    "count=0\n",
    "for i in items:         \n",
    "    count+=i\n",
    "    if count>=0:\n",
    "        print(i)"
   ]
  },
  {
   "cell_type": "code",
   "execution_count": 16,
   "metadata": {},
   "outputs": [
    {
     "data": {
      "text/plain": [
       "False"
      ]
     },
     "execution_count": 16,
     "metadata": {},
     "output_type": "execute_result"
    }
   ],
   "source": [
    "a=290 # -5 to 256 tak pehle se create ho jata hai par 290 toh scope ke bahar jata hai\n",
    "b=290\n",
    "a is b"
   ]
  },
  {
   "cell_type": "markdown",
   "metadata": {},
   "source": [
    "# 10"
   ]
  },
  {
   "cell_type": "code",
   "execution_count": 1,
   "metadata": {},
   "outputs": [
    {
     "name": "stdout",
     "output_type": "stream",
     "text": [
      "parthparth\n",
      "ar\n"
     ]
    },
    {
     "data": {
      "text/plain": [
       "2"
      ]
     },
     "execution_count": 1,
     "metadata": {},
     "output_type": "execute_result"
    }
   ],
   "source": [
    "string=input()\n",
    "sub_string=input()\n",
    "string.count(sub_string)"
   ]
  },
  {
   "cell_type": "markdown",
   "metadata": {},
   "source": [
    "# 11"
   ]
  },
  {
   "cell_type": "code",
   "execution_count": 18,
   "metadata": {},
   "outputs": [
    {
     "name": "stdout",
     "output_type": "stream",
     "text": [
      "1210263\n",
      "3\n",
      "True\n"
     ]
    }
   ],
   "source": [
    "num=int(input())\n",
    "binary=bin(num)[2:]\n",
    "k=int(input())\n",
    "flag=0\n",
    "for i in range(len(binary)):\n",
    "    if binary[i:i+k]==\"1\"*k:\n",
    "        flag=1\n",
    "        break\n",
    "if flag==1:\n",
    "    print(True)\n",
    "else:\n",
    "    print(False)"
   ]
  },
  {
   "cell_type": "markdown",
   "metadata": {},
   "source": [
    "# 12"
   ]
  },
  {
   "cell_type": "code",
   "execution_count": 23,
   "metadata": {},
   "outputs": [
    {
     "name": "stdout",
     "output_type": "stream",
     "text": [
      "my name is parth\n",
      "htrap si eman ym\n"
     ]
    }
   ],
   "source": [
    "b=[]\n",
    "a=input()\n",
    "b[:]=a[::-1]\n",
    "b=\"\".join(b)\n",
    "print(b)"
   ]
  },
  {
   "cell_type": "markdown",
   "metadata": {},
   "source": [
    "# 13"
   ]
  },
  {
   "cell_type": "code",
   "execution_count": 43,
   "metadata": {},
   "outputs": [
    {
     "name": "stdout",
     "output_type": "stream",
     "text": [
      "abcdbcd\n",
      "a\n"
     ]
    }
   ],
   "source": [
    "# Find the only one non repeated number in a string (rest all have pairs). Example:\n",
    "# ‘abcccdbfhdifih’ => has only 1 non pair c.\n",
    "a=input()\n",
    "sum_normal=0\n",
    "set_sum=0\n",
    "for i in a:\n",
    "    sum_normal+=ord(i)\n",
    "for i in set(a):\n",
    "    set_sum+=ord(i)\n",
    "print(chr(2*set_sum-sum_normal))"
   ]
  },
  {
   "cell_type": "markdown",
   "metadata": {},
   "source": [
    "# 14"
   ]
  },
  {
   "cell_type": "code",
   "execution_count": 24,
   "metadata": {},
   "outputs": [
    {
     "name": "stdout",
     "output_type": "stream",
     "text": [
      "parth\n",
      "ar\n"
     ]
    },
    {
     "data": {
      "text/plain": [
       "True"
      ]
     },
     "execution_count": 24,
     "metadata": {},
     "output_type": "execute_result"
    }
   ],
   "source": [
    "string=input()\n",
    "sub_string=input()\n",
    "sub_string in string"
   ]
  },
  {
   "cell_type": "markdown",
   "metadata": {},
   "source": [
    "# 15"
   ]
  },
  {
   "cell_type": "code",
   "execution_count": 85,
   "metadata": {},
   "outputs": [
    {
     "name": "stdout",
     "output_type": "stream",
     "text": [
      "ABd1234@1,a F1#,2w3E*,2We3345\n",
      "ABd1234@1,"
     ]
    }
   ],
   "source": [
    "a=input().split(\",\")\n",
    "for i in a:\n",
    "\n",
    "    flag1=any(ord(c)in range(ord('a'),ord('z')+1) for c in i)\n",
    "    flag2=any(ord(c)in range(ord('0'),ord('9')+1) for c in i)\n",
    "    flag3=any(ord(c)in range(ord('A'),ord('Z')+1) for c in i)\n",
    "    flag4=any(c in ['$','#','@'] for c in i)\n",
    "    if len(i)>=6 and len(i)<=12:\n",
    "        flag5=True\n",
    "    else:\n",
    "        flag5=False\n",
    "    if flag1 and flag2 and flag3 and flag4 and flag5:\n",
    "        print(i,end=\",\")"
   ]
  },
  {
   "cell_type": "markdown",
   "metadata": {},
   "source": []
  },
  {
   "cell_type": "code",
   "execution_count": 28,
   "metadata": {},
   "outputs": [
    {
     "ename": "NameError",
     "evalue": "name 'e' is not defined",
     "output_type": "error",
     "traceback": [
      "\u001b[0;31m---------------------------------------------------------------------------\u001b[0m",
      "\u001b[0;31mNameError\u001b[0m                                 Traceback (most recent call last)",
      "\u001b[0;32m<ipython-input-28-8f848349a58a>\u001b[0m in \u001b[0;36m<module>\u001b[0;34m\u001b[0m\n\u001b[0;32m----> 1\u001b[0;31m \u001b[0msum\u001b[0m\u001b[0;34m(\u001b[0m\u001b[0;34m[\u001b[0m\u001b[0me\u001b[0m\u001b[0;34m,\u001b[0m\u001b[0mc\u001b[0m\u001b[0;34m,\u001b[0m\u001b[0mb\u001b[0m\u001b[0;34m,\u001b[0m\u001b[0md\u001b[0m\u001b[0;34m]\u001b[0m\u001b[0;34m)\u001b[0m\u001b[0;34m\u001b[0m\u001b[0;34m\u001b[0m\u001b[0m\n\u001b[0m",
      "\u001b[0;31mNameError\u001b[0m: name 'e' is not defined"
     ]
    }
   ],
   "source": [
    "sum([e,c,b,d])"
   ]
  },
  {
   "cell_type": "code",
   "execution_count": null,
   "metadata": {},
   "outputs": [],
   "source": []
  },
  {
   "cell_type": "code",
   "execution_count": null,
   "metadata": {},
   "outputs": [],
   "source": []
  },
  {
   "cell_type": "code",
   "execution_count": null,
   "metadata": {},
   "outputs": [],
   "source": []
  }
 ],
 "metadata": {
  "kernelspec": {
   "display_name": "Python 3",
   "language": "python",
   "name": "python3"
  },
  "language_info": {
   "codemirror_mode": {
    "name": "ipython",
    "version": 3
   },
   "file_extension": ".py",
   "mimetype": "text/x-python",
   "name": "python",
   "nbconvert_exporter": "python",
   "pygments_lexer": "ipython3",
   "version": "3.6.8"
  }
 },
 "nbformat": 4,
 "nbformat_minor": 2
}
